{
 "cells": [
  {
   "cell_type": "code",
   "execution_count": 1,
   "metadata": {},
   "outputs": [
    {
     "name": "stderr",
     "output_type": "stream",
     "text": [
      "[nltk_data] Downloading package stopwords to\n",
      "[nltk_data]     C:\\Users\\kiril\\AppData\\Roaming\\nltk_data...\n",
      "[nltk_data]   Package stopwords is already up-to-date!\n"
     ]
    }
   ],
   "source": [
    "import pandas as pd\n",
    "import numpy as np\n",
    "from nltk.tokenize import sent_tokenize, word_tokenize\n",
    "from nltk.corpus import stopwords\n",
    "import nltk\n",
    "nltk.download('stopwords')\n",
    "import pymorphy2\n",
    "morph = pymorphy2.MorphAnalyzer()"
   ]
  },
  {
   "cell_type": "code",
   "execution_count": 2,
   "metadata": {},
   "outputs": [],
   "source": [
    "def tag(string):\n",
    "    a = morph.parse(string)[0].tag\n",
    "    return (('NOUN' in a) or ('ADJF' in a) or ('INFN' in a))"
   ]
  },
  {
   "cell_type": "code",
   "execution_count": 3,
   "metadata": {},
   "outputs": [],
   "source": [
    "classif_train = pd.read_csv('C:/Users/kiril/Desktop/cup_it/no_title.csv')"
   ]
  },
  {
   "cell_type": "code",
   "execution_count": 37,
   "metadata": {},
   "outputs": [
    {
     "data": {
      "text/plain": [
       "0    3494\n",
       "3    1319\n",
       "1    1048\n",
       "4     922\n",
       "5     830\n",
       "6     714\n",
       "2     538\n",
       "7     208\n",
       "8      78\n",
       "Name: type, dtype: int64"
      ]
     },
     "execution_count": 37,
     "metadata": {},
     "output_type": "execute_result"
    }
   ],
   "source": [
    "classif_train['type'].value_counts()"
   ]
  },
  {
   "cell_type": "code",
   "execution_count": 4,
   "metadata": {},
   "outputs": [],
   "source": [
    "#words_all = pd.Series(np.concatenate(classif_train['text'].apply(lambda s: s.strip().split()).values))\n",
    "#words_all = words_all[~words_all.isin(stopwords.words('russian'))]\n",
    "#words_all = words_all[words_all.str.isalpha()] # Только буквы\n",
    "#words_all = words_all[(words_all.str.len() >= 3)] # Длина > 2\n",
    "#words_all = words_all[words_all.apply(tag)]"
   ]
  },
  {
   "cell_type": "code",
   "execution_count": 5,
   "metadata": {},
   "outputs": [],
   "source": [
    "words_0 = pd.Series(np.concatenate(classif_train[classif_train['type']==0]['text'].apply(lambda s: s.strip().split()).values))\n",
    "words_1 = pd.Series(np.concatenate(classif_train[classif_train['type']==1]['text'].apply(lambda s: s.strip().split()).values))\n",
    "words_2 = pd.Series(np.concatenate(classif_train[classif_train['type']==2]['text'].apply(lambda s: s.strip().split()).values))\n",
    "words_3 = pd.Series(np.concatenate(classif_train[classif_train['type']==3]['text'].apply(lambda s: s.strip().split()).values))\n",
    "words_4 = pd.Series(np.concatenate(classif_train[classif_train['type']==4]['text'].apply(lambda s: s.strip().split()).values))\n",
    "words_5 = pd.Series(np.concatenate(classif_train[classif_train['type']==5]['text'].apply(lambda s: s.strip().split()).values))\n",
    "words_6 = pd.Series(np.concatenate(classif_train[classif_train['type']==6]['text'].apply(lambda s: s.strip().split()).values))\n",
    "words_7 = pd.Series(np.concatenate(classif_train[classif_train['type']==7]['text'].apply(lambda s: s.strip().split()).values))"
   ]
  },
  {
   "cell_type": "code",
   "execution_count": 6,
   "metadata": {},
   "outputs": [],
   "source": [
    "words_0 = words_0[~words_0.isin(stopwords.words('russian'))]\n",
    "words_1 = words_1[~words_1.isin(stopwords.words('russian'))]\n",
    "words_2 = words_2[~words_2.isin(stopwords.words('russian'))]\n",
    "words_3 = words_3[~words_3.isin(stopwords.words('russian'))]\n",
    "words_4 = words_4[~words_4.isin(stopwords.words('russian'))]\n",
    "words_5 = words_5[~words_5.isin(stopwords.words('russian'))]\n",
    "words_6 = words_6[~words_6.isin(stopwords.words('russian'))]\n",
    "words_7 = words_7[~words_7.isin(stopwords.words('russian'))]"
   ]
  },
  {
   "cell_type": "code",
   "execution_count": 7,
   "metadata": {},
   "outputs": [],
   "source": [
    "words_0 = words_0[words_0.str.isalpha()] # Только буквы\n",
    "words_1 = words_1[words_1.str.isalpha()] # Только буквы\n",
    "words_2 = words_2[words_2.str.isalpha()] # Только буквы\n",
    "words_3 = words_3[words_3.str.isalpha()] # Только буквы\n",
    "words_4 = words_4[words_4.str.isalpha()] # Только буквы\n",
    "words_5 = words_5[words_5.str.isalpha()] # Только буквы\n",
    "words_6 = words_6[words_6.str.isalpha()] # Только буквы\n",
    "words_7 = words_7[words_7.str.isalpha()] # Только буквы"
   ]
  },
  {
   "cell_type": "code",
   "execution_count": 8,
   "metadata": {},
   "outputs": [],
   "source": [
    "words_0 = words_0[(words_0.str.len() >= 3)] # Длина > 2\n",
    "words_1 = words_1[(words_1.str.len() >= 3)] # Длина > 2\n",
    "words_2 = words_2[(words_2.str.len() >= 3)] # Длина > 2\n",
    "words_3 = words_3[(words_3.str.len() >= 3)] # Длина > 2\n",
    "words_4 = words_4[(words_4.str.len() >= 3)] # Длина > 2\n",
    "words_5 = words_5[(words_5.str.len() >= 3)] # Длина > 2\n",
    "words_6 = words_6[(words_6.str.len() >= 3)] # Длина > 2\n",
    "words_7 = words_7[(words_7.str.len() >= 3)] # Длина > 2"
   ]
  },
  {
   "cell_type": "code",
   "execution_count": 10,
   "metadata": {},
   "outputs": [],
   "source": [
    "words_0 = words_0[words_0.apply(tag)]\n",
    "words_1 = words_1[words_1.apply(tag)]\n",
    "words_2 = words_2[words_2.apply(tag)]\n",
    "words_3 = words_3[words_3.apply(tag)]\n",
    "words_4 = words_4[words_4.apply(tag)]\n",
    "words_5 = words_5[words_5.apply(tag)]\n",
    "words_6 = words_6[words_6.apply(tag)]\n",
    "words_7 = words_7[words_7.apply(tag)]"
   ]
  },
  {
   "cell_type": "code",
   "execution_count": 11,
   "metadata": {},
   "outputs": [],
   "source": [
    "df = pd.DataFrame(columns = ['words_0','words_1','words_2','words_3','words_4','words_5','words_6','words_7'])"
   ]
  },
  {
   "cell_type": "code",
   "execution_count": 12,
   "metadata": {},
   "outputs": [],
   "source": [
    "df['words_0'] = words_0\n",
    "df['words_1'] = words_1\n",
    "df['words_2'] = words_2\n",
    "df['words_3'] = words_3\n",
    "df['words_4'] = words_4\n",
    "df['words_5'] = words_5\n",
    "df['words_6'] = words_6\n",
    "df['words_7'] = words_7"
   ]
  },
  {
   "cell_type": "code",
   "execution_count": 13,
   "metadata": {},
   "outputs": [
    {
     "name": "stdout",
     "output_type": "stream",
     "text": [
      "<class 'pandas.core.frame.DataFrame'>\n",
      "Int64Index: 252777 entries, 0 to 475269\n",
      "Data columns (total 8 columns):\n",
      "words_0    252777 non-null object\n",
      "words_1    39706 non-null object\n",
      "words_2    21112 non-null object\n",
      "words_3    36842 non-null object\n",
      "words_4    32394 non-null object\n",
      "words_5    33785 non-null object\n",
      "words_6    28508 non-null object\n",
      "words_7    7369 non-null object\n",
      "dtypes: object(8)\n",
      "memory usage: 9.6+ MB\n"
     ]
    }
   ],
   "source": [
    "df.info()"
   ]
  },
  {
   "cell_type": "code",
   "execution_count": 15,
   "metadata": {},
   "outputs": [],
   "source": [
    "count_0 = df['words_0'].value_counts()\n",
    "count_1 = df['words_1'].value_counts()\n",
    "count_2 = df['words_2'].value_counts()\n",
    "count_3 = df['words_3'].value_counts()\n",
    "count_4 = df['words_4'].value_counts()\n",
    "count_5 = df['words_5'].value_counts()\n",
    "count_6 = df['words_6'].value_counts()\n",
    "count_7 = df['words_7'].value_counts()"
   ]
  },
  {
   "cell_type": "code",
   "execution_count": 22,
   "metadata": {},
   "outputs": [
    {
     "data": {
      "text/plain": [
       "array([884, 817, 688, ...,   1,   1,   1], dtype=int64)"
      ]
     },
     "execution_count": 22,
     "metadata": {},
     "output_type": "execute_result"
    }
   ],
   "source": [
    "count_1.values"
   ]
  },
  {
   "cell_type": "code",
   "execution_count": 26,
   "metadata": {},
   "outputs": [],
   "source": [
    "df_count = pd.DataFrame(columns = ['words_0','words_1','words_2','words_3','words_4','words_5','words_6','words_7'])"
   ]
  },
  {
   "cell_type": "code",
   "execution_count": 27,
   "metadata": {},
   "outputs": [
    {
     "data": {
      "text/html": [
       "<div>\n",
       "<style scoped>\n",
       "    .dataframe tbody tr th:only-of-type {\n",
       "        vertical-align: middle;\n",
       "    }\n",
       "\n",
       "    .dataframe tbody tr th {\n",
       "        vertical-align: top;\n",
       "    }\n",
       "\n",
       "    .dataframe thead th {\n",
       "        text-align: right;\n",
       "    }\n",
       "</style>\n",
       "<table border=\"1\" class=\"dataframe\">\n",
       "  <thead>\n",
       "    <tr style=\"text-align: right;\">\n",
       "      <th></th>\n",
       "      <th>words_0</th>\n",
       "      <th>words_1</th>\n",
       "      <th>words_2</th>\n",
       "      <th>words_3</th>\n",
       "      <th>words_4</th>\n",
       "      <th>words_5</th>\n",
       "      <th>words_6</th>\n",
       "      <th>words_7</th>\n",
       "    </tr>\n",
       "  </thead>\n",
       "  <tbody>\n",
       "  </tbody>\n",
       "</table>\n",
       "</div>"
      ],
      "text/plain": [
       "Empty DataFrame\n",
       "Columns: [words_0, words_1, words_2, words_3, words_4, words_5, words_6, words_7]\n",
       "Index: []"
      ]
     },
     "execution_count": 27,
     "metadata": {},
     "output_type": "execute_result"
    }
   ],
   "source": [
    "df_count"
   ]
  },
  {
   "cell_type": "code",
   "execution_count": 28,
   "metadata": {},
   "outputs": [],
   "source": [
    "df_count['words_0'] = count_0\n",
    "df_count['words_1'] = count_1\n",
    "df_count['words_2'] = count_2\n",
    "df_count['words_3'] = count_3\n",
    "df_count['words_4'] = count_4\n",
    "df_count['words_5'] = count_5\n",
    "df_count['words_6'] = count_6\n",
    "df_count['words_7'] = count_7"
   ]
  },
  {
   "cell_type": "code",
   "execution_count": 31,
   "metadata": {},
   "outputs": [],
   "source": [
    "#df_count.to_csv(r'C:/Users/kiril/Desktop/cup_it/new_df.csv',index=True)"
   ]
  },
  {
   "cell_type": "code",
   "execution_count": null,
   "metadata": {},
   "outputs": [],
   "source": [
    "df_count = df_count.sort_values(by=[\"words_0\"],ascending = False)\n",
    "kredit = df_count[0:100].index\n",
    "df_count = df_count.sort_values(by=[\"words_1\"],ascending = False)\n",
    "ipoteka = df_count[0:100].index\n",
    "df_count = df_count.sort_values(by=[\"words_2\"],ascending = False)\n",
    "restruct = df_count[0:100].index\n",
    "df_count = df_count.sort_values(by=[\"words_3\"],ascending = False)\n",
    "vklad = df_count[0:100].index\n",
    "df_count = df_count.sort_values(by=[\"words_4\"],ascending = False)\n",
    "bisnez = df_count[0:100].index\n",
    "df_count = df_count.sort_values(by=[\"words_5\"],ascending = False)\n",
    "obslu = df_count[0:100].index\n",
    "df_count = df_count.sort_values(by=[\"words_6\"],ascending = False)\n",
    "karta = df_count[0:100].index\n",
    "df_count = df_count.sort_values(by=[\"words_7\"],ascending = False)\n",
    "perevod = df_count[0:100].index\n",
    "df_count = df_count.sort_values(by=[\"words_8\"],ascending = False)\n",
    "invest = df_count[0:100].index"
   ]
  }
 ],
 "metadata": {
  "kernelspec": {
   "display_name": "Python 3",
   "language": "python",
   "name": "python3"
  },
  "language_info": {
   "codemirror_mode": {
    "name": "ipython",
    "version": 3
   },
   "file_extension": ".py",
   "mimetype": "text/x-python",
   "name": "python",
   "nbconvert_exporter": "python",
   "pygments_lexer": "ipython3",
   "version": "3.7.2"
  }
 },
 "nbformat": 4,
 "nbformat_minor": 2
}
