{
 "cells": [
  {
   "cell_type": "code",
   "execution_count": 1,
   "metadata": {},
   "outputs": [
    {
     "name": "stderr",
     "output_type": "stream",
     "text": [
      "[nltk_data] Downloading package stopwords to\n",
      "[nltk_data]     C:\\Users\\kiril\\AppData\\Roaming\\nltk_data...\n",
      "[nltk_data]   Package stopwords is already up-to-date!\n"
     ]
    }
   ],
   "source": [
    "import pandas as pd\n",
    "import numpy as np\n",
    "from nltk.tokenize import sent_tokenize, word_tokenize\n",
    "from nltk.corpus import stopwords\n",
    "import nltk\n",
    "nltk.download('stopwords')\n",
    "import pymorphy2\n",
    "morph = pymorphy2.MorphAnalyzer()"
   ]
  },
  {
   "cell_type": "code",
   "execution_count": 2,
   "metadata": {},
   "outputs": [],
   "source": [
    "def tag(string):\n",
    "    a = morph.parse(string)[0].tag\n",
    "    return (('NOUN' in a) or ('ADJF' in a) or ('INFN' in a))"
   ]
  },
  {
   "cell_type": "code",
   "execution_count": 3,
   "metadata": {},
   "outputs": [],
   "source": [
    "classif_train = pd.read_csv('C:/Users/kiril/Desktop/cup_it/no_title.csv')"
   ]
  },
  {
   "cell_type": "code",
   "execution_count": 4,
   "metadata": {},
   "outputs": [
    {
     "data": {
      "text/plain": [
       "0    3494\n",
       "3    1319\n",
       "1    1048\n",
       "4     922\n",
       "5     830\n",
       "6     714\n",
       "2     538\n",
       "7     208\n",
       "8      78\n",
       "Name: type, dtype: int64"
      ]
     },
     "execution_count": 4,
     "metadata": {},
     "output_type": "execute_result"
    }
   ],
   "source": [
    "classif_train['type'].value_counts()"
   ]
  },
  {
   "cell_type": "code",
   "execution_count": 5,
   "metadata": {},
   "outputs": [],
   "source": [
    "#words_all = pd.Series(np.concatenate(classif_train['text'].apply(lambda s: s.strip().split()).values))\n",
    "#words_all = words_all[~words_all.isin(stopwords.words('russian'))]\n",
    "#words_all = words_all[words_all.str.isalpha()] # Только буквы\n",
    "#words_all = words_all[(words_all.str.len() >= 3)] # Длина > 2\n",
    "#words_all = words_all[words_all.apply(tag)]"
   ]
  },
  {
   "cell_type": "code",
   "execution_count": 6,
   "metadata": {},
   "outputs": [],
   "source": [
    "words_0 = pd.Series(np.concatenate(classif_train[classif_train['type']==0]['text'].apply(lambda s: s.strip().split()).values))\n",
    "words_1 = pd.Series(np.concatenate(classif_train[classif_train['type']==1]['text'].apply(lambda s: s.strip().split()).values))\n",
    "words_2 = pd.Series(np.concatenate(classif_train[classif_train['type']==2]['text'].apply(lambda s: s.strip().split()).values))\n",
    "words_3 = pd.Series(np.concatenate(classif_train[classif_train['type']==3]['text'].apply(lambda s: s.strip().split()).values))\n",
    "words_4 = pd.Series(np.concatenate(classif_train[classif_train['type']==4]['text'].apply(lambda s: s.strip().split()).values))\n",
    "words_5 = pd.Series(np.concatenate(classif_train[classif_train['type']==5]['text'].apply(lambda s: s.strip().split()).values))\n",
    "words_6 = pd.Series(np.concatenate(classif_train[classif_train['type']==6]['text'].apply(lambda s: s.strip().split()).values))\n",
    "words_7 = pd.Series(np.concatenate(classif_train[classif_train['type']==7]['text'].apply(lambda s: s.strip().split()).values))\n",
    "words_8 = pd.Series(np.concatenate(classif_train[classif_train['type']==8]['text'].apply(lambda s: s.strip().split()).values))"
   ]
  },
  {
   "cell_type": "code",
   "execution_count": 7,
   "metadata": {},
   "outputs": [],
   "source": [
    "words_0 = words_0[~words_0.isin(stopwords.words('russian'))]\n",
    "words_1 = words_1[~words_1.isin(stopwords.words('russian'))]\n",
    "words_2 = words_2[~words_2.isin(stopwords.words('russian'))]\n",
    "words_3 = words_3[~words_3.isin(stopwords.words('russian'))]\n",
    "words_4 = words_4[~words_4.isin(stopwords.words('russian'))]\n",
    "words_5 = words_5[~words_5.isin(stopwords.words('russian'))]\n",
    "words_6 = words_6[~words_6.isin(stopwords.words('russian'))]\n",
    "words_7 = words_7[~words_7.isin(stopwords.words('russian'))]\n",
    "words_8 = words_8[~words_8.isin(stopwords.words('russian'))]"
   ]
  },
  {
   "cell_type": "code",
   "execution_count": 8,
   "metadata": {},
   "outputs": [],
   "source": [
    "words_0 = words_0[words_0.str.isalpha()] # Только буквы\n",
    "words_1 = words_1[words_1.str.isalpha()] # Только буквы\n",
    "words_2 = words_2[words_2.str.isalpha()] # Только буквы\n",
    "words_3 = words_3[words_3.str.isalpha()] # Только буквы\n",
    "words_4 = words_4[words_4.str.isalpha()] # Только буквы\n",
    "words_5 = words_5[words_5.str.isalpha()] # Только буквы\n",
    "words_6 = words_6[words_6.str.isalpha()] # Только буквы\n",
    "words_7 = words_7[words_7.str.isalpha()] # Только буквы\n",
    "words_8 = words_8[words_8.str.isalpha()] # Только буквы"
   ]
  },
  {
   "cell_type": "code",
   "execution_count": 9,
   "metadata": {},
   "outputs": [],
   "source": [
    "words_0 = words_0[(words_0.str.len() >= 3)] # Длина > 2\n",
    "words_1 = words_1[(words_1.str.len() >= 3)] # Длина > 2\n",
    "words_2 = words_2[(words_2.str.len() >= 3)] # Длина > 2\n",
    "words_3 = words_3[(words_3.str.len() >= 3)] # Длина > 2\n",
    "words_4 = words_4[(words_4.str.len() >= 3)] # Длина > 2\n",
    "words_5 = words_5[(words_5.str.len() >= 3)] # Длина > 2\n",
    "words_6 = words_6[(words_6.str.len() >= 3)] # Длина > 2\n",
    "words_7 = words_7[(words_7.str.len() >= 3)] # Длина > 2\n",
    "words_8 = words_8[(words_8.str.len() >= 3)] # Длина > 2"
   ]
  },
  {
   "cell_type": "code",
   "execution_count": 10,
   "metadata": {},
   "outputs": [],
   "source": [
    "words_0 = words_0[words_0.apply(tag)]\n",
    "words_1 = words_1[words_1.apply(tag)]\n",
    "words_2 = words_2[words_2.apply(tag)]\n",
    "words_3 = words_3[words_3.apply(tag)]\n",
    "words_4 = words_4[words_4.apply(tag)]\n",
    "words_5 = words_5[words_5.apply(tag)]\n",
    "words_6 = words_6[words_6.apply(tag)]\n",
    "words_7 = words_7[words_7.apply(tag)]\n",
    "words_8 = words_8[words_8.apply(tag)]"
   ]
  },
  {
   "cell_type": "code",
   "execution_count": 11,
   "metadata": {},
   "outputs": [],
   "source": [
    "df = pd.DataFrame(columns = ['words_0','words_1','words_2','words_3','words_4','words_5','words_6','words_7','words_8'])"
   ]
  },
  {
   "cell_type": "code",
   "execution_count": 12,
   "metadata": {},
   "outputs": [],
   "source": [
    "df['words_0'] = words_0\n",
    "df['words_1'] = words_1\n",
    "df['words_2'] = words_2\n",
    "df['words_3'] = words_3\n",
    "df['words_4'] = words_4\n",
    "df['words_5'] = words_5\n",
    "df['words_6'] = words_6\n",
    "df['words_7'] = words_7\n",
    "df['words_8'] = words_8"
   ]
  },
  {
   "cell_type": "code",
   "execution_count": 13,
   "metadata": {},
   "outputs": [
    {
     "name": "stdout",
     "output_type": "stream",
     "text": [
      "<class 'pandas.core.frame.DataFrame'>\n",
      "Int64Index: 252777 entries, 0 to 475269\n",
      "Data columns (total 9 columns):\n",
      "words_0    252777 non-null object\n",
      "words_1    39706 non-null object\n",
      "words_2    21112 non-null object\n",
      "words_3    36842 non-null object\n",
      "words_4    32394 non-null object\n",
      "words_5    33785 non-null object\n",
      "words_6    28508 non-null object\n",
      "words_7    7369 non-null object\n",
      "words_8    2982 non-null object\n",
      "dtypes: object(9)\n",
      "memory usage: 10.6+ MB\n"
     ]
    }
   ],
   "source": [
    "df.info()"
   ]
  },
  {
   "cell_type": "code",
   "execution_count": 21,
   "metadata": {},
   "outputs": [],
   "source": [
    "count_0 = df['words_0'].value_counts()\n",
    "count_1 = df['words_1'].value_counts()\n",
    "count_2 = df['words_2'].value_counts()\n",
    "count_3 = df['words_3'].value_counts()\n",
    "count_4 = df['words_4'].value_counts()\n",
    "count_5 = df['words_5'].value_counts()\n",
    "count_6 = df['words_6'].value_counts()\n",
    "count_7 = df['words_7'].value_counts()\n",
    "count_8 = df['words_8'].value_counts()"
   ]
  },
  {
   "cell_type": "code",
   "execution_count": 22,
   "metadata": {},
   "outputs": [
    {
     "data": {
      "text/plain": [
       "array([884, 817, 688, ...,   1,   1,   1], dtype=int64)"
      ]
     },
     "execution_count": 22,
     "metadata": {},
     "output_type": "execute_result"
    }
   ],
   "source": [
    "count_1.values"
   ]
  },
  {
   "cell_type": "code",
   "execution_count": 42,
   "metadata": {},
   "outputs": [],
   "source": [
    "words_all = pd.Series()"
   ]
  },
  {
   "cell_type": "code",
   "execution_count": 45,
   "metadata": {},
   "outputs": [],
   "source": [
    "words_all = pd.concat([words_0,words_all],axis = 0)\n",
    "words_all = pd.concat([words_1,words_all],axis = 0)\n",
    "words_all = pd.concat([words_2,words_all],axis = 0)\n",
    "words_all = pd.concat([words_3,words_all],axis = 0)\n",
    "words_all = pd.concat([words_4,words_all],axis = 0)\n",
    "words_all = pd.concat([words_5,words_all],axis = 0)\n",
    "words_all = pd.concat([words_6,words_all],axis = 0)\n",
    "words_all = pd.concat([words_7,words_all],axis = 0)\n",
    "words_all = pd.concat([words_8,words_all],axis = 0)\n",
    "words_all = set(words_all)"
   ]
  },
  {
   "cell_type": "code",
   "execution_count": 47,
   "metadata": {},
   "outputs": [
    {
     "data": {
      "text/plain": [
       "20852"
      ]
     },
     "execution_count": 47,
     "metadata": {},
     "output_type": "execute_result"
    }
   ],
   "source": [
    "len(words_all)"
   ]
  },
  {
   "cell_type": "code",
   "execution_count": 51,
   "metadata": {},
   "outputs": [],
   "source": [
    "df_count = pd.DataFrame(columns = ['count_0','count_1','count_2','count_3','count_4','count_5','count_6','count_7', 'count_8'], index = words_all)"
   ]
  },
  {
   "cell_type": "code",
   "execution_count": 53,
   "metadata": {},
   "outputs": [
    {
     "name": "stdout",
     "output_type": "stream",
     "text": [
      "<class 'pandas.core.frame.DataFrame'>\n",
      "Index: 20852 entries, лицый to количество\n",
      "Data columns (total 9 columns):\n",
      "count_0    0 non-null object\n",
      "count_1    0 non-null object\n",
      "count_2    0 non-null object\n",
      "count_3    0 non-null object\n",
      "count_4    0 non-null object\n",
      "count_5    0 non-null object\n",
      "count_6    0 non-null object\n",
      "count_7    0 non-null object\n",
      "count_8    0 non-null object\n",
      "dtypes: object(9)\n",
      "memory usage: 814.5+ KB\n"
     ]
    }
   ],
   "source": [
    "df_count.info()"
   ]
  },
  {
   "cell_type": "code",
   "execution_count": 54,
   "metadata": {},
   "outputs": [],
   "source": [
    "df_count['count_0'] = count_0\n",
    "df_count['count_1'] = count_1\n",
    "df_count['count_2'] = count_2\n",
    "df_count['count_3'] = count_3\n",
    "df_count['count_4'] = count_4\n",
    "df_count['count_5'] = count_5\n",
    "df_count['count_6'] = count_6\n",
    "df_count['count_7'] = count_7\n",
    "df_count['count_8'] = count_8"
   ]
  },
  {
   "cell_type": "code",
   "execution_count": 56,
   "metadata": {},
   "outputs": [],
   "source": [
    "df_count = df_count.sort_values(by=[\"count_0\"],ascending = False)"
   ]
  },
  {
   "cell_type": "code",
   "execution_count": 59,
   "metadata": {},
   "outputs": [
    {
     "data": {
      "text/html": [
       "<div>\n",
       "<style scoped>\n",
       "    .dataframe tbody tr th:only-of-type {\n",
       "        vertical-align: middle;\n",
       "    }\n",
       "\n",
       "    .dataframe tbody tr th {\n",
       "        vertical-align: top;\n",
       "    }\n",
       "\n",
       "    .dataframe thead th {\n",
       "        text-align: right;\n",
       "    }\n",
       "</style>\n",
       "<table border=\"1\" class=\"dataframe\">\n",
       "  <thead>\n",
       "    <tr style=\"text-align: right;\">\n",
       "      <th></th>\n",
       "      <th>count_0</th>\n",
       "      <th>count_1</th>\n",
       "      <th>count_2</th>\n",
       "      <th>count_3</th>\n",
       "      <th>count_4</th>\n",
       "      <th>count_5</th>\n",
       "      <th>count_6</th>\n",
       "      <th>count_7</th>\n",
       "      <th>count_8</th>\n",
       "    </tr>\n",
       "  </thead>\n",
       "  <tbody>\n",
       "    <tr>\n",
       "      <th>банка</th>\n",
       "      <td>6143.0</td>\n",
       "      <td>817.0</td>\n",
       "      <td>542.0</td>\n",
       "      <td>981.0</td>\n",
       "      <td>773.0</td>\n",
       "      <td>788.0</td>\n",
       "      <td>664.0</td>\n",
       "      <td>147.0</td>\n",
       "      <td>61.0</td>\n",
       "    </tr>\n",
       "    <tr>\n",
       "      <th>кредит</th>\n",
       "      <td>5262.0</td>\n",
       "      <td>350.0</td>\n",
       "      <td>372.0</td>\n",
       "      <td>77.0</td>\n",
       "      <td>133.0</td>\n",
       "      <td>85.0</td>\n",
       "      <td>54.0</td>\n",
       "      <td>10.0</td>\n",
       "      <td>3.0</td>\n",
       "    </tr>\n",
       "    <tr>\n",
       "      <th>весь</th>\n",
       "      <td>4777.0</td>\n",
       "      <td>884.0</td>\n",
       "      <td>451.0</td>\n",
       "      <td>748.0</td>\n",
       "      <td>722.0</td>\n",
       "      <td>715.0</td>\n",
       "      <td>544.0</td>\n",
       "      <td>128.0</td>\n",
       "      <td>69.0</td>\n",
       "    </tr>\n",
       "    <tr>\n",
       "      <th>банк</th>\n",
       "      <td>4428.0</td>\n",
       "      <td>526.0</td>\n",
       "      <td>307.0</td>\n",
       "      <td>613.0</td>\n",
       "      <td>723.0</td>\n",
       "      <td>590.0</td>\n",
       "      <td>439.0</td>\n",
       "      <td>108.0</td>\n",
       "      <td>29.0</td>\n",
       "    </tr>\n",
       "    <tr>\n",
       "      <th>карта</th>\n",
       "      <td>3798.0</td>\n",
       "      <td>81.0</td>\n",
       "      <td>101.0</td>\n",
       "      <td>255.0</td>\n",
       "      <td>176.0</td>\n",
       "      <td>401.0</td>\n",
       "      <td>1121.0</td>\n",
       "      <td>56.0</td>\n",
       "      <td>18.0</td>\n",
       "    </tr>\n",
       "  </tbody>\n",
       "</table>\n",
       "</div>"
      ],
      "text/plain": [
       "        count_0  count_1  count_2  count_3  count_4  count_5  count_6  \\\n",
       "банка    6143.0    817.0    542.0    981.0    773.0    788.0    664.0   \n",
       "кредит   5262.0    350.0    372.0     77.0    133.0     85.0     54.0   \n",
       "весь     4777.0    884.0    451.0    748.0    722.0    715.0    544.0   \n",
       "банк     4428.0    526.0    307.0    613.0    723.0    590.0    439.0   \n",
       "карта    3798.0     81.0    101.0    255.0    176.0    401.0   1121.0   \n",
       "\n",
       "        count_7  count_8  \n",
       "банка     147.0     61.0  \n",
       "кредит     10.0      3.0  \n",
       "весь      128.0     69.0  \n",
       "банк      108.0     29.0  \n",
       "карта      56.0     18.0  "
      ]
     },
     "execution_count": 59,
     "metadata": {},
     "output_type": "execute_result"
    }
   ],
   "source": [
    "df_count.head()"
   ]
  },
  {
   "cell_type": "code",
   "execution_count": 60,
   "metadata": {},
   "outputs": [],
   "source": [
    "#df_count.to_csv(r'C:/Users/kiril/Desktop/cup_it/new_df.csv',index=True)"
   ]
  },
  {
   "cell_type": "code",
   "execution_count": 61,
   "metadata": {},
   "outputs": [],
   "source": [
    "df_count = df_count.sort_values(by=[\"count_0\"],ascending = False)\n",
    "kredit = df_count[0:100].index\n",
    "df_count = df_count.sort_values(by=[\"count_1\"],ascending = False)\n",
    "ipoteka = df_count[0:100].index\n",
    "df_count = df_count.sort_values(by=[\"count_2\"],ascending = False)\n",
    "restruct = df_count[0:100].index\n",
    "df_count = df_count.sort_values(by=[\"count_3\"],ascending = False)\n",
    "vklad = df_count[0:100].index\n",
    "df_count = df_count.sort_values(by=[\"count_4\"],ascending = False)\n",
    "bisnez = df_count[0:100].index\n",
    "df_count = df_count.sort_values(by=[\"count_5\"],ascending = False)\n",
    "obslu = df_count[0:100].index\n",
    "df_count = df_count.sort_values(by=[\"count_6\"],ascending = False)\n",
    "karta = df_count[0:100].index\n",
    "df_count = df_count.sort_values(by=[\"count_7\"],ascending = False)\n",
    "perevod = df_count[0:100].index\n",
    "df_count = df_count.sort_values(by=[\"count_8\"],ascending = False)\n",
    "invest = df_count[0:100].index"
   ]
  },
  {
   "cell_type": "code",
   "execution_count": 99,
   "metadata": {},
   "outputs": [],
   "source": [
    "kredit = set(kredit)\n",
    "ipoteka = set(ipoteka)\n",
    "restruct = set(restruct)\n",
    "vklad = set(vklad)\n",
    "bisnez = set(bisnez)\n",
    "obslu = set(obslu)\n",
    "karta = set(karta)\n",
    "perevod = set(perevod)\n",
    "invest = set(invest)\n",
    "main_words = set()"
   ]
  },
  {
   "cell_type": "code",
   "execution_count": 103,
   "metadata": {},
   "outputs": [],
   "source": [
    "main_words = main_words.union(kredit,ipoteka,restruct,vklad,bisnez,obslu,karta,perevod,invest);"
   ]
  },
  {
   "cell_type": "code",
   "execution_count": 104,
   "metadata": {},
   "outputs": [
    {
     "data": {
      "text/plain": [
       "237"
      ]
     },
     "execution_count": 104,
     "metadata": {},
     "output_type": "execute_result"
    }
   ],
   "source": [
    "len(main_words)"
   ]
  },
  {
   "cell_type": "code",
   "execution_count": 108,
   "metadata": {},
   "outputs": [],
   "source": [
    "same_words = kredit.intersection(kredit,ipoteka,restruct,vklad,bisnez,obslu,karta,perevod,invest)"
   ]
  },
  {
   "cell_type": "code",
   "execution_count": 110,
   "metadata": {},
   "outputs": [
    {
     "data": {
      "text/plain": [
       "35"
      ]
     },
     "execution_count": 110,
     "metadata": {},
     "output_type": "execute_result"
    }
   ],
   "source": [
    "len(same_words)"
   ]
  },
  {
   "cell_type": "code",
   "execution_count": 114,
   "metadata": {},
   "outputs": [],
   "source": [
    "main_words = main_words.difference(same_words)"
   ]
  },
  {
   "cell_type": "code",
   "execution_count": 115,
   "metadata": {},
   "outputs": [],
   "source": [
    "main_words = pd.Series(list(main_words))"
   ]
  },
  {
   "cell_type": "code",
   "execution_count": 116,
   "metadata": {},
   "outputs": [],
   "source": [
    "final_words = pd.DataFrame(columns = ['words'])"
   ]
  },
  {
   "cell_type": "code",
   "execution_count": 117,
   "metadata": {},
   "outputs": [],
   "source": [
    "final_words['words'] = main_words"
   ]
  },
  {
   "cell_type": "code",
   "execution_count": 118,
   "metadata": {},
   "outputs": [
    {
     "data": {
      "text/html": [
       "<div>\n",
       "<style scoped>\n",
       "    .dataframe tbody tr th:only-of-type {\n",
       "        vertical-align: middle;\n",
       "    }\n",
       "\n",
       "    .dataframe tbody tr th {\n",
       "        vertical-align: top;\n",
       "    }\n",
       "\n",
       "    .dataframe thead th {\n",
       "        text-align: right;\n",
       "    }\n",
       "</style>\n",
       "<table border=\"1\" class=\"dataframe\">\n",
       "  <thead>\n",
       "    <tr style=\"text-align: right;\">\n",
       "      <th></th>\n",
       "      <th>words</th>\n",
       "    </tr>\n",
       "  </thead>\n",
       "  <tbody>\n",
       "    <tr>\n",
       "      <th>0</th>\n",
       "      <td>высокий</td>\n",
       "    </tr>\n",
       "    <tr>\n",
       "      <th>1</th>\n",
       "      <td>страховка</td>\n",
       "    </tr>\n",
       "    <tr>\n",
       "      <th>2</th>\n",
       "      <td>стать</td>\n",
       "    </tr>\n",
       "    <tr>\n",
       "      <th>3</th>\n",
       "      <td>остаться</td>\n",
       "    </tr>\n",
       "    <tr>\n",
       "      <th>4</th>\n",
       "      <td>отказ</td>\n",
       "    </tr>\n",
       "  </tbody>\n",
       "</table>\n",
       "</div>"
      ],
      "text/plain": [
       "       words\n",
       "0    высокий\n",
       "1  страховка\n",
       "2      стать\n",
       "3   остаться\n",
       "4      отказ"
      ]
     },
     "execution_count": 118,
     "metadata": {},
     "output_type": "execute_result"
    }
   ],
   "source": [
    "final_words.head()"
   ]
  },
  {
   "cell_type": "code",
   "execution_count": 119,
   "metadata": {},
   "outputs": [
    {
     "name": "stdout",
     "output_type": "stream",
     "text": [
      "<class 'pandas.core.frame.DataFrame'>\n",
      "RangeIndex: 202 entries, 0 to 201\n",
      "Data columns (total 1 columns):\n",
      "words    202 non-null object\n",
      "dtypes: object(1)\n",
      "memory usage: 848.0+ bytes\n"
     ]
    }
   ],
   "source": [
    "final_words.info()"
   ]
  },
  {
   "cell_type": "code",
   "execution_count": 120,
   "metadata": {},
   "outputs": [],
   "source": [
    "final_words.to_csv(r'C:/Users/kiril/Desktop/cup_it/final_words_1.csv',index=False)"
   ]
  },
  {
   "cell_type": "code",
   "execution_count": null,
   "metadata": {},
   "outputs": [],
   "source": []
  }
 ],
 "metadata": {
  "kernelspec": {
   "display_name": "Python 3",
   "language": "python",
   "name": "python3"
  },
  "language_info": {
   "codemirror_mode": {
    "name": "ipython",
    "version": 3
   },
   "file_extension": ".py",
   "mimetype": "text/x-python",
   "name": "python",
   "nbconvert_exporter": "python",
   "pygments_lexer": "ipython3",
   "version": "3.7.2"
  }
 },
 "nbformat": 4,
 "nbformat_minor": 2
}
