{
 "cells": [
  {
   "cell_type": "code",
   "execution_count": 1,
   "metadata": {},
   "outputs": [],
   "source": [
    "import numpy as np\n",
    "import pandas as pd\n",
    "%matplotlib inline\n",
    "from sklearn.model_selection import cross_val_score\n",
    "from sklearn.model_selection import StratifiedKFold, KFold\n",
    "from sklearn.feature_extraction.text import TfidfVectorizer\n",
    "from sklearn.linear_model import LogisticRegression\n",
    "from sklearn.model_selection import GridSearchCV\n",
    "from nltk.corpus import stopwords\n",
    "from wordcloud import WordCloud\n",
    "import matplotlib.pyplot as plt"
   ]
  },
  {
   "cell_type": "code",
   "execution_count": 2,
   "metadata": {},
   "outputs": [],
   "source": [
    "train = pd.read_csv('train_data-2.csv', encoding='utf', engine='python', index_col=0)\n",
    "test = pd.read_csv('test_data-2.csv', encoding='utf', engine='python', index_col=0)"
   ]
  },
  {
   "cell_type": "code",
   "execution_count": 5,
   "metadata": {},
   "outputs": [
    {
     "name": "stdout",
     "output_type": "stream",
     "text": [
      "Fitting 10 folds for each of 98 candidates, totalling 980 fits\n"
     ]
    },
    {
     "name": "stderr",
     "output_type": "stream",
     "text": [
      "[Parallel(n_jobs=-1)]: Using backend LokyBackend with 4 concurrent workers.\n",
      "[Parallel(n_jobs=-1)]: Done  42 tasks      | elapsed:    3.3s\n",
      "[Parallel(n_jobs=-1)]: Done 192 tasks      | elapsed:   16.0s\n",
      "[Parallel(n_jobs=-1)]: Done 442 tasks      | elapsed:   40.9s\n",
      "[Parallel(n_jobs=-1)]: Done 792 tasks      | elapsed:  1.4min\n",
      "[Parallel(n_jobs=-1)]: Done 980 out of 980 | elapsed:  1.9min finished\n",
      "/Library/Frameworks/Python.framework/Versions/3.7/lib/python3.7/site-packages/sklearn/linear_model/logistic.py:433: FutureWarning: Default solver will be changed to 'lbfgs' in 0.22. Specify a solver to silence this warning.\n",
      "  FutureWarning)\n"
     ]
    }
   ],
   "source": [
    "tf_idf = TfidfVectorizer(ngram_range=(1, 4), stop_words=stopwords.words('russian'), \n",
    "                         analyzer='word',\n",
    "                         max_df=0.8, \n",
    "                         min_df=10,\n",
    "                        )\n",
    "\n",
    "tf_idf_model = tf_idf.fit(train['text'])\n",
    "train_tf_idf_vec = tf_idf_model.transform(train['text'])\n",
    "test_tf_idf_vec = tf_idf_model.transform(test['text'])\n",
    "\n",
    "lm = LogisticRegression(\n",
    "                        penalty='l2',\n",
    "                        random_state=42,\n",
    "                        C=10, \n",
    "                        max_iter=100000)\n",
    "\n",
    "lm_params = {'penalty':['l1', 'l2'],\n",
    "             'C':np.arange(0.1,5,0.1),  \n",
    "}\n",
    "\n",
    "lm_search = GridSearchCV(estimator=lm, \n",
    "                         param_grid=lm_params, \n",
    "                         scoring ='roc_auc', \n",
    "                         cv=StratifiedKFold(10), \n",
    "                         n_jobs=-1,\n",
    "                         verbose=1)\n",
    "\n",
    "lm_search_fitted = lm_search.fit(X=train_tf_idf_vec, y=pd.factorize(train.score)[0])\n",
    "\n",
    "pred_scores = cross_val_score(estimator=lm_search_fitted.best_estimator_, X=train_tf_idf_vec, y=pd.factorize(train.score)[0],\n",
    "                scoring='roc_auc',  \n",
    "                cv=10, #stratified by default\n",
    "                n_jobs=-1)\n",
    "\n",
    "predicts = lm_search_fitted.best_estimator_.predict_proba(test_tf_idf_vec)[:, 0]\n",
    "\n",
    "sub = pd.DataFrame({'index': range(0, len(predicts)),\n",
    "                    'score':predicts})\n",
    "sub.to_csv('rang.csv', index=False)"
   ]
  }
 ],
 "metadata": {
  "kernelspec": {
   "display_name": "Python 3",
   "language": "python",
   "name": "python3"
  },
  "language_info": {
   "codemirror_mode": {
    "name": "ipython",
    "version": 3
   },
   "file_extension": ".py",
   "mimetype": "text/x-python",
   "name": "python",
   "nbconvert_exporter": "python",
   "pygments_lexer": "ipython3",
   "version": "3.7.1"
  }
 },
 "nbformat": 4,
 "nbformat_minor": 2
}
